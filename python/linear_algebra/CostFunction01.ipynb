{
 "cells": [
  {
   "cell_type": "code",
   "execution_count": 16,
   "metadata": {
    "collapsed": true
   },
   "outputs": [],
   "source": [
    "import numpy as np\n",
    "from operator import *"
   ]
  },
  {
   "cell_type": "code",
   "execution_count": 53,
   "metadata": {
    "collapsed": false
   },
   "outputs": [
    {
     "name": "stdout",
     "output_type": "stream",
     "text": [
      "[[ 1.  1.  1.]\n",
      " [ 4.  5.  6.]\n",
      " [ 7.  8.  9.]]\n",
      "[ 3.04833333  2.33333333  4.5       ]\n"
     ]
    },
    {
     "data": {
      "text/plain": [
       "1"
      ]
     },
     "execution_count": 53,
     "metadata": {},
     "output_type": "execute_result"
    }
   ],
   "source": [
    "x = np.array([\n",
    "        [1,1,1],\n",
    "        [4,5,6],\n",
    "        [7,8,9]\n",
    "    ])\n",
    "# print(x.astype(float))\n",
    "y = np.array([65, 75, 85])\n",
    "theta = np.array([1, 3, 7])\n",
    "\n",
    "def costfn(x, y, theta):\n",
    "    xT = x.transpose()\n",
    "    est = xT.dot(theta)\n",
    "    m = len(xT)\n",
    "    cost = (1.0 / (2 * m)) * reduce(lambda x,y: x + y*y, y - est, 0)\n",
    "    return cost\n",
    "\n",
    "def bestCostFn(x, y, thetas):\n",
    "    costs = np.array([costfn(x,y,theta) for theta in thetas])\n",
    "    print(costs)\n",
    "    return costs.argmin(0)\n",
    "    \n",
    "# costfn(x, y, theta)\n",
    "thetas = np.array([\n",
    "        [1.1,4.2,6.9],\n",
    "        [1,4,7],\n",
    "        [1,3,7]\n",
    "    ]) \n",
    "bestCostFn(x, y, thetas)\n",
    "# costfn(x,y, np.array([2,1,4]))"
   ]
  },
  {
   "cell_type": "code",
   "execution_count": 46,
   "metadata": {
    "collapsed": false
   },
   "outputs": [
    {
     "name": "stdout",
     "output_type": "stream",
     "text": [
      "[   799910.275       16039401.46833333     67416.54166667\n",
      "  10774282.50833333]\n"
     ]
    },
    {
     "data": {
      "text/plain": [
       "2"
      ]
     },
     "execution_count": 46,
     "metadata": {},
     "output_type": "execute_result"
    }
   ],
   "source": [
    "x = np.array([\n",
    "        [1] * 12,\n",
    "        [1,2,2,3,3,4,5,6,6,6,8,10]\n",
    "    ])\n",
    "y = np.array([-890,-1411,-1560,-2220,-2091,-2878,-3537,-3268,-3920,-4163,-5471,-5157])\n",
    "thetas = np.array([\n",
    "        [-1780.0, -530.9],\n",
    "        [-569.6, 530.9],\n",
    "        [-569.6, -530.9],\n",
    "        [-1780.0, 530.9]\n",
    "    ])\n",
    "bestCostFn(x, y, thetas)"
   ]
  },
  {
   "cell_type": "code",
   "execution_count": 54,
   "metadata": {
    "collapsed": false
   },
   "outputs": [],
   "source": [
    "# np.array([[1,2,3],[4,5,6]]).astype(float)"
   ]
  }
 ],
 "metadata": {
  "kernelspec": {
   "display_name": "Python 2",
   "language": "python",
   "name": "python2"
  },
  "language_info": {
   "codemirror_mode": {
    "name": "ipython",
    "version": 2
   },
   "file_extension": ".py",
   "mimetype": "text/x-python",
   "name": "python",
   "nbconvert_exporter": "python",
   "pygments_lexer": "ipython2",
   "version": "2.7.2"
  }
 },
 "nbformat": 4,
 "nbformat_minor": 0
}
