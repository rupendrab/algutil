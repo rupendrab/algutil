{
 "cells": [
  {
   "cell_type": "code",
   "execution_count": 9,
   "metadata": {
    "collapsed": true
   },
   "outputs": [],
   "source": [
    "from decimal import Decimal, getcontext\n",
    "\n",
    "from vector import Vector\n",
    "\n",
    "getcontext().prec = 30\n",
    "\n",
    "\n",
    "class Plane(object):\n",
    "\n",
    "    NO_NONZERO_ELTS_FOUND_MSG = 'No nonzero elements found'\n",
    "\n",
    "    def __init__(self, normal_vector=None, constant_term=None):\n",
    "        self.dimension = 3\n",
    "\n",
    "        if not normal_vector:\n",
    "            all_zeros = ['0']*self.dimension\n",
    "            normal_vector = Vector(all_zeros)\n",
    "        self.normal_vector = normal_vector\n",
    "\n",
    "        if not constant_term:\n",
    "            constant_term = Decimal('0')\n",
    "        self.constant_term = Decimal(constant_term)\n",
    "\n",
    "        self.set_basepoint()\n",
    "\n",
    "\n",
    "    def set_basepoint(self):\n",
    "        try:\n",
    "            n = self.normal_vector\n",
    "            c = self.constant_term\n",
    "            basepoint_coords = ['0']*self.dimension\n",
    "\n",
    "            initial_index = Plane.first_nonzero_index(n)\n",
    "            initial_coefficient = n[initial_index]\n",
    "\n",
    "            basepoint_coords[initial_index] = c/initial_coefficient\n",
    "            self.basepoint = Vector(basepoint_coords)\n",
    "\n",
    "        except Exception as e:\n",
    "            if str(e) == Plane.NO_NONZERO_ELTS_FOUND_MSG:\n",
    "                self.basepoint = None\n",
    "            else:\n",
    "                raise e\n",
    "\n",
    "\n",
    "    def __str__(self):\n",
    "\n",
    "        num_decimal_places = 3\n",
    "\n",
    "        def write_coefficient(coefficient, is_initial_term=False):\n",
    "            coefficient = round(coefficient, num_decimal_places)\n",
    "            if coefficient % 1 == 0:\n",
    "                coefficient = int(coefficient)\n",
    "\n",
    "            output = ''\n",
    "\n",
    "            if coefficient < 0:\n",
    "                output += '-'\n",
    "            if coefficient > 0 and not is_initial_term:\n",
    "                output += '+'\n",
    "\n",
    "            if not is_initial_term:\n",
    "                output += ' '\n",
    "\n",
    "            if abs(coefficient) != 1:\n",
    "                output += '{}'.format(abs(coefficient))\n",
    "\n",
    "            return output\n",
    "\n",
    "        n = self.normal_vector\n",
    "\n",
    "        try:\n",
    "            initial_index = Plane.first_nonzero_index(n)\n",
    "            terms = [write_coefficient(n[i], is_initial_term=(i==initial_index)) + 'x_{}'.format(i+1)\n",
    "                     for i in range(self.dimension) if round(n[i], num_decimal_places) != 0]\n",
    "            output = ' '.join(terms)\n",
    "\n",
    "        except Exception as e:\n",
    "            if str(e) == self.NO_NONZERO_ELTS_FOUND_MSG:\n",
    "                output = '0'\n",
    "            else:\n",
    "                raise e\n",
    "\n",
    "        constant = round(self.constant_term, num_decimal_places)\n",
    "        if constant % 1 == 0:\n",
    "            constant = int(constant)\n",
    "        output += ' = {}'.format(constant)\n",
    "\n",
    "        return output\n",
    "\n",
    "\n",
    "    def is_parallel(self, p):\n",
    "        return self.normal_vector.isParallel(p.normal_vector)\n",
    "    \n",
    "    def is_same(self, p):\n",
    "        if self.normal_vector.is_zero():\n",
    "            if not p.normal_vector.is_zero():\n",
    "                return False\n",
    "            else:\n",
    "                diff = self.constant_term - p.constant_term\n",
    "                return MyDecimal(diff).is_near_zero()\n",
    "        elif p.normal_vector.is_zero():\n",
    "            return False\n",
    "            \n",
    "        if not self.is_parallel(p):\n",
    "            return False\n",
    "        v1 = self.basepoint\n",
    "        v2 = p.basepoint\n",
    "        v = v1 - v2\n",
    "        return (v.isOrthogonal(self.normal_vector) and v.isOrthogonal(p.normal_vector))\n",
    "\n",
    "    @staticmethod\n",
    "    def first_nonzero_index(iterable):\n",
    "        for k, item in enumerate(iterable):\n",
    "            if not MyDecimal(item).is_near_zero():\n",
    "                return k\n",
    "        raise Exception(Plane.NO_NONZERO_ELTS_FOUND_MSG)\n",
    "\n",
    "\n",
    "class MyDecimal(Decimal):\n",
    "    def is_near_zero(self, eps=1e-10):\n",
    "        return abs(self) < eps\n"
   ]
  },
  {
   "cell_type": "code",
   "execution_count": 5,
   "metadata": {
    "collapsed": false
   },
   "outputs": [
    {
     "name": "stdout",
     "output_type": "stream",
     "text": [
      "x_1 + 2x_2 + 3x_3 = 10\n"
     ]
    }
   ],
   "source": [
    "p1 = Plane(Vector([1,2,3]), 10)\n",
    "print(p1)"
   ]
  },
  {
   "cell_type": "code",
   "execution_count": 30,
   "metadata": {
    "collapsed": false
   },
   "outputs": [
    {
     "name": "stdout",
     "output_type": "stream",
     "text": [
      "Parallel: True\n",
      "Same: True\n",
      "\n",
      "Parallel: False\n",
      "Same: False\n",
      "\n",
      "Parallel: True\n",
      "Same: False\n"
     ]
    }
   ],
   "source": [
    "p1 = Plane(Vector([-0.412, 3.806, 0.728]), -3.46)\n",
    "p2 = Plane(Vector([1.03, -9.515, -1.82]), 8.65)\n",
    "print(\"Parallel: %s\" % p1.is_parallel(p2))\n",
    "print(\"Same: %s\" % p1.is_same(p2))\n",
    "\n",
    "print('')\n",
    "p1 = Plane(Vector([2.611, 5.528, 0.283]), 4.6)\n",
    "p2 = Plane(Vector([7.715, 8.306, 5.342]), 3.76)\n",
    "print(\"Parallel: %s\" % p1.is_parallel(p2))\n",
    "print(\"Same: %s\" % p1.is_same(p2))\n",
    "\n",
    "print('')\n",
    "p1 = Plane(Vector([-7.926, 8.625, -7.212]),-7.952)\n",
    "p2 = Plane(Vector([-2.642, 2.875, -2.404]), -2.443)\n",
    "print(\"Parallel: %s\" % p1.is_parallel(p2))\n",
    "print(\"Same: %s\" % p1.is_same(p2))\n"
   ]
  },
  {
   "cell_type": "code",
   "execution_count": 25,
   "metadata": {
    "collapsed": false
   },
   "outputs": [
    {
     "name": "stdout",
     "output_type": "stream",
     "text": [
      "3.0\n",
      "3.0\n",
      "3.00207986689\n",
      "3.25501432665\n",
      "7.212\n",
      "-2.5\n",
      "-2.5\n",
      "-2.5\n",
      "-2.5\n"
     ]
    }
   ],
   "source": [
    "print(-7.926/-2.642)\n",
    "print(8.625/2.875)\n",
    "print(-7.217/-2.404)\n",
    "print(-7.952/-2.443)\n",
    "print(2.404*3)\n",
    "print(1.03/-0.412)\n",
    "print(-9.515/3.806)\n",
    "print(-1.82/0.728)\n",
    "print(8.65/-3.46)\n",
    "\n"
   ]
  }
 ],
 "metadata": {
  "kernelspec": {
   "display_name": "Python 2",
   "language": "python",
   "name": "python2"
  },
  "language_info": {
   "codemirror_mode": {
    "name": "ipython",
    "version": 2
   },
   "file_extension": ".py",
   "mimetype": "text/x-python",
   "name": "python",
   "nbconvert_exporter": "python",
   "pygments_lexer": "ipython2",
   "version": "2.7.2"
  }
 },
 "nbformat": 4,
 "nbformat_minor": 0
}
