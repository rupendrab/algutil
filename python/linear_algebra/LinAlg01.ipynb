{
 "cells": [
  {
   "cell_type": "code",
   "execution_count": 46,
   "metadata": {
    "collapsed": false
   },
   "outputs": [
    {
     "name": "stdout",
     "output_type": "stream",
     "text": [
      "Vector: (1.0, 2.0, 3.0)\n",
      "True\n",
      "False\n",
      "Vector: (2.0, 4.0, 6.0)\n",
      "Vector: (0.0, 0.0, 0.0)\n",
      "Vector: (3.0, 6.0, 9.0)\n"
     ]
    }
   ],
   "source": [
    "import operator\n",
    "from functools import reduce\n",
    "import math\n",
    "from decimal import Decimal, getcontext\n",
    "\n",
    "class Vector(object):\n",
    "    \n",
    "    def __init__(self, coordinates):\n",
    "        try:\n",
    "            if not coordinates:\n",
    "                raise ValueError\n",
    "            self.coordinates = tuple([Decimal(x) for x in coordinates])\n",
    "            self.dimension = len(coordinates)\n",
    "        except ValueError:\n",
    "            raise ValueError('The coordinates must be nonempty')\n",
    "        except TypeError:\n",
    "            raise TypeError('The coordinates must be an iterable')\n",
    "            \n",
    "    def __str__(self):\n",
    "        return 'Vector: {}'.format(tuple(round(x,3) for x in self.coordinates))\n",
    "    \n",
    "    def __eq__(self, v):\n",
    "        return self.coordinates == v.coordinates\n",
    "    \n",
    "    def __add__(self, v):\n",
    "        return Vector(tuple(map(operator.add, self.coordinates, v.coordinates)))\n",
    "    \n",
    "    def __sub__(self, v):\n",
    "        return Vector(tuple(map(operator.sub, self.coordinates, v.coordinates)))\n",
    "    \n",
    "    def __mul__(self, v):\n",
    "        return Vector(tuple(map((Decimal(v)).__mul__, self.coordinates)))\n",
    "    \n",
    "    def magnitude(self):\n",
    "        return Decimal(math.pow(reduce(lambda x,y: x + math.pow(y,2), self.coordinates, 0), 0.5))\n",
    "    \n",
    "    def normalized(self):\n",
    "        mag = self.magnitude()\n",
    "        if (mag == 0):\n",
    "            raise Exception('Cannot normalize the zero vector')\n",
    "        return self * (Decimal(1.0) / mag)\n",
    "    \n",
    "    def dot(self, v):\n",
    "        if (v.dimension != self.dimension):\n",
    "            raise Exception('Unequal dimensions {0} & {1}'.format(self.dimension, v.dimension))\n",
    "        return reduce(lambda x, y: x + y, [x * y for (x,y) in zip(self.coordinates, v.coordinates)], 0)\n",
    "    \n",
    "    def cosAngle(self, v):\n",
    "        dotproduct = self.dot(v)\n",
    "        selfmag = self.magnitude()\n",
    "        othermag = v.magnitude()\n",
    "        # print(type(dotproduct), type(selfmag), type(othermag))\n",
    "        try:\n",
    "            return dotproduct / (selfmag * othermag)\n",
    "        except ZeroDivisionError:\n",
    "            raise Exception('Cannot get angle with zero vector')\n",
    "            \n",
    "    def angleRadians(self, v):\n",
    "        return math.acos(self.cosAngle(v))\n",
    "    \n",
    "    def angleDegrees(self, v):\n",
    "        return self.angleRadians(v) * 180 / math.pi\n",
    "    \n",
    "    def is_zero(self, tolerance = 1e-10):\n",
    "        return self.magnitude() < tolerance\n",
    "    \n",
    "    def isParallel(self, v, tolerance = 1e-10):\n",
    "        if (self.is_zero() or v.is_zero()):\n",
    "            return True\n",
    "        absangle = abs(self.cosAngle(v))\n",
    "        # print('absangle = {}'.format(absangle))\n",
    "        return abs(absangle - 1) < tolerance\n",
    "    \n",
    "    def isOrthogonal(self, v, tolerance = 1e-10):\n",
    "        dotproduct = self.dot(v)\n",
    "        # print('dot product is {}'.format(dotproduct))\n",
    "        return abs(dotproduct) < tolerance\n",
    "    \n",
    "    def component_parallel_to(self, basis):\n",
    "        '''\n",
    "        Project this vector onto v (v is the basis vector) and get the parallel component\n",
    "        '''\n",
    "        if (basis.is_zero()):\n",
    "            raise Exception('Cannot project to zero vector')\n",
    "        norm = basis.normalized()\n",
    "        return norm * self.dot(norm)\n",
    "    \n",
    "    def component_orthogonal_to(self, basis):\n",
    "        return self - self.component_parallel_to(basis)\n",
    "\n",
    "    def cross_product(self, v):\n",
    "        '''\n",
    "        cross product of v and w = (magnitude of v) * (magnitude of w) * (sin(theta))\n",
    "        '''\n",
    "        # sinAngle = math.sqrt(1 - math.pow(self.cosAngle(v), 2))\n",
    "        # weight = self.magnitude() * v.magnitude()\n",
    "        # mag_cross = weigth * sinAngle\n",
    "        if (self.dimension != 3 and v.dimension != 3):\n",
    "            raise Exception(\"You can only do cross product of 3 dimensional vectors\")\n",
    "        return Vector([\n",
    "                self.coordinates[1] * v.coordinates[2] - v.coordinates[1] * self.coordinates[2],\n",
    "                - (self.coordinates[0] * v.coordinates[2] - v.coordinates[0] * self.coordinates[2]),\n",
    "                self.coordinates[0] * v.coordinates[1] - v.coordinates[0] * self.coordinates[1],\n",
    "                      ])   \n",
    "    def area_parallelogram(self, v):\n",
    "        cp = self.cross_product(v)\n",
    "        return cp.magnitude()\n",
    "    \n",
    "    def area_triangle(self, v):\n",
    "        cp = self.cross_product(v)\n",
    "        return Decimal(0.5) * cp.magnitude()\n",
    "\n",
    "def print3dec(val):\n",
    "    print(round(val, 3))\n",
    "\n",
    "my_vector = Vector([1,2,3])\n",
    "my_vector2 = Vector([1,2,3])\n",
    "my_vector3 = Vector([-11,2,3])\n",
    "print(my_vector)\n",
    "print(my_vector == my_vector2)\n",
    "print(my_vector == my_vector3)\n",
    "print(my_vector + my_vector2)\n",
    "print(my_vector - my_vector2)\n",
    "print(my_vector * 3)"
   ]
  },
  {
   "cell_type": "code",
   "execution_count": 74,
   "metadata": {
    "collapsed": false
   },
   "outputs": [
    {
     "name": "stdout",
     "output_type": "stream",
     "text": [
      "Vector: (7.089, -7.23)\n",
      "Vector: (15.342, 7.337)\n",
      "Vector: (12.382, -7.499, -2.356)\n"
     ]
    }
   ],
   "source": [
    "v1 = Vector([8.218, -9.341])\n",
    "v2 = Vector([-1.129, 2.111])\n",
    "print(v1 + v2)\n",
    "v1 = Vector([7.119, 8.215])\n",
    "v2 = Vector([-8.223, 0.878])\n",
    "print(v1 - v2)\n",
    "v3 = Vector([1.671, -1.012, -0.318])\n",
    "print(v3 * 7.41)"
   ]
  },
  {
   "cell_type": "code",
   "execution_count": 75,
   "metadata": {
    "collapsed": false
   },
   "outputs": [
    {
     "name": "stdout",
     "output_type": "stream",
     "text": [
      "7.44\n",
      "10.884\n",
      "Vector: (0.934, -0.357)\n",
      "Vector: (0.34, 0.53, -0.777)\n"
     ]
    }
   ],
   "source": [
    "# math.pow(reduce(lambda x,y: x+y, [1,2,3], 0), 0.5)\n",
    "print(round(Vector([-0.221, 7.437]).magnitude(), 3))\n",
    "print(round(Vector([8.813, -1.331, -6.247]).magnitude(), 3))\n",
    "print(Vector([5.581, -2.136]).normalized())\n",
    "print(Vector([1.996, 3.108, -4.554]).normalized())\n",
    "# Vector([0, 0, 0]).norm()"
   ]
  },
  {
   "cell_type": "code",
   "execution_count": 109,
   "metadata": {
    "collapsed": false
   },
   "outputs": [
    {
     "name": "stdout",
     "output_type": "stream",
     "text": [
      "-41.382\n",
      "56.397\n",
      "3.072\n",
      "60.276\n"
     ]
    }
   ],
   "source": [
    "v = Vector([7.887, 4.138])\n",
    "w = Vector([-8.802, 6.776])\n",
    "print3dec(v.dot(w))\n",
    "\n",
    "v = Vector([-5.955, -4.904, -1.874])\n",
    "w = Vector([-4.496, -8.755, 7.103])\n",
    "print3dec(v.dot(w))\n",
    "\n",
    "v = Vector([3.183, -7.627])\n",
    "w = Vector([-2.668, 5.319])\n",
    "print3dec(v.angleRadians(w))\n",
    "\n",
    "v = Vector([7.35, 0.221, 5.188])\n",
    "w = Vector([2.751, 8.259, 3.985])\n",
    "print3dec(v.angleDegrees(w))\n",
    "\n"
   ]
  },
  {
   "cell_type": "code",
   "execution_count": 2,
   "metadata": {
    "collapsed": false
   },
   "outputs": [
    {
     "name": "stdout",
     "output_type": "stream",
     "text": [
      "(True, False)\n",
      "(False, False)\n",
      "(False, True)\n",
      "(True, True)\n"
     ]
    }
   ],
   "source": [
    "v = Vector([-7.579, -7.88])\n",
    "w = Vector([22.737, 23.64])\n",
    "print(v.isParallel(w), v.isOrthogonal(w))\n",
    "\n",
    "v = Vector([-2.029, 9.97, 4.172])\n",
    "w = Vector([-9.231, -6.639, -7.245])\n",
    "print(v.isParallel(w), v.isOrthogonal(w))\n",
    "\n",
    "v = Vector([-2.328, -7.284, -1.214])\n",
    "w = Vector([-1.821, 1.072, -2.94])\n",
    "print(v.isParallel(w), v.isOrthogonal(w))\n",
    "\n",
    "v = Vector([2.118, 4.827])\n",
    "w = Vector([0, 0])\n",
    "print(v.isParallel(w), v.isOrthogonal(w))"
   ]
  },
  {
   "cell_type": "code",
   "execution_count": 14,
   "metadata": {
    "collapsed": false
   },
   "outputs": [
    {
     "name": "stdout",
     "output_type": "stream",
     "text": [
      "Vector: (1.0, 2.0, 3.0)\n",
      "Vector: (3.0, 0.0, 0.0)\n",
      "3\n",
      "Vector: (1.0, 0.0, 0.0)\n"
     ]
    }
   ],
   "source": [
    "v1 = Vector([3,0,0])\n",
    "print(my_vector)\n",
    "print(v1)\n",
    "print(v1.dot(my_vector))\n",
    "print(my_vector.project(v1))"
   ]
  },
  {
   "cell_type": "code",
   "execution_count": 34,
   "metadata": {
    "collapsed": false
   },
   "outputs": [
    {
     "name": "stdout",
     "output_type": "stream",
     "text": [
      "Vector: (1.083, 2.672)\n",
      "Vector: (-8.35, 3.376, -1.434)\n",
      "Vector: (1.969, -2.811, 0.848, 2.68)\n",
      "Vector: (1.04, -3.361, 2.844, -5.19)\n",
      "Vector: (3.009, -6.172, 3.692, -2.51)\n"
     ]
    }
   ],
   "source": [
    "v = Vector([3.039, 1.879])\n",
    "b = Vector([0.825, 2.036])\n",
    "print(v.component_parallel_to(b))\n",
    "\n",
    "v = Vector([-9.88, -3.264, -8.159])\n",
    "b = Vector([-2.155, -9.353, -9.473])\n",
    "print(v.component_orthogonal_to(b))\n",
    "\n",
    "v = Vector([3.009, -6.172, 3.692, -2.51])\n",
    "b = Vector([6.404, -9.144, 2.759, 8.718])\n",
    "proj = v.component_parallel_to(b)\n",
    "orth = v.component_orthogonal_to(b)\n",
    "print(proj)\n",
    "print(orth)\n",
    "print(proj + orth)"
   ]
  },
  {
   "cell_type": "code",
   "execution_count": 47,
   "metadata": {
    "collapsed": false
   },
   "outputs": [
    {
     "name": "stdout",
     "output_type": "stream",
     "text": [
      "Vector: (9.0, -13.0, 3.0)\n",
      "Vector: (-11.205, -97.609, -105.685)\n",
      "142.122\n",
      "42.565\n"
     ]
    }
   ],
   "source": [
    "v = Vector([5,3,-2])\n",
    "w = Vector([-1,0,3])\n",
    "print(v.cross_product(w))\n",
    "\n",
    "v = Vector([8.462, 7.893, -8.187])\n",
    "w = Vector([6.984, -5.975, 4.778])\n",
    "print(v.cross_product(w))\n",
    "\n",
    "v = Vector([-8.987, -9.838, 5.031])\n",
    "w = Vector([-4.268, -1.861, -8.866])\n",
    "print3dec(v.area_parallelogram(w))\n",
    "\n",
    "v = Vector([1.5, 9.547, 3.691])\n",
    "w = Vector([-6.007, 0.124, 5.772])\n",
    "print3dec(v.area_triangle(w))"
   ]
  }
 ],
 "metadata": {
  "kernelspec": {
   "display_name": "Python 2",
   "language": "python",
   "name": "python2"
  },
  "language_info": {
   "codemirror_mode": {
    "name": "ipython",
    "version": 2
   },
   "file_extension": ".py",
   "mimetype": "text/x-python",
   "name": "python",
   "nbconvert_exporter": "python",
   "pygments_lexer": "ipython2",
   "version": "2.7.2"
  }
 },
 "nbformat": 4,
 "nbformat_minor": 0
}
