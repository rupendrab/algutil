{
 "cells": [
  {
   "cell_type": "code",
   "execution_count": 15,
   "metadata": {
    "collapsed": false
   },
   "outputs": [],
   "source": [
    "from vector import Vector\n",
    "from decimal import Decimal, getcontext\n",
    "\n",
    "getcontext().prec = 30\n",
    "\n",
    "class Line(object):\n",
    "    \n",
    "    NO_NONZERO_ELTS_FOUND_MSG = \"No nonzero elements found\"\n",
    "    \n",
    "    def __init__(self, normal_vector=None, constant_term=None):\n",
    "        self.dimension = 2\n",
    "        \n",
    "        if not normal_vector:\n",
    "            all_zeors = ['0'] * self.dimension\n",
    "            normal_vector = Vector(all_zeors)\n",
    "        self.normal_vector = normal_vector\n",
    "        \n",
    "        if not constant_term:\n",
    "            constant_term = Decimal('0')\n",
    "        self.constant_term = Decimal(constant_term)\n",
    "        \n",
    "        self.set_basepoint()\n",
    "\n",
    "    def set_basepoint(self):\n",
    "        try:\n",
    "            n = self.normal_vector\n",
    "            c = self.constant_term\n",
    "            basepoint_coords = ['0'] * self.dimension\n",
    "            \n",
    "            initial_index = Line.first_nonzero_index(n)\n",
    "            initial_coefficient = n[initial_index]\n",
    "            \n",
    "            basepoint_coords[initial_index] = c / initial_coefficient\n",
    "            self.basepoint = Vector(basepoint_coords)\n",
    "        except Exception as e:\n",
    "            if str(e) == Line.NO_NONZERO_ELTS_FOUND_MSG:\n",
    "                self.basepoint = None\n",
    "            else:\n",
    "                raise e\n",
    "                \n",
    "    def __str__(self):\n",
    "        num_decimal_places = 3\n",
    "        \n",
    "        def write_coefficient(coefficient, is_initial_term=False):\n",
    "            coefficient = round(coefficient, num_decimal_places)\n",
    "            if coefficient % 1 == 0:\n",
    "                coefficient = int(coefficient)\n",
    "            output = ''\n",
    "            \n",
    "            if coefficient < 0:\n",
    "                output += '-'\n",
    "            if coefficient > 0 and not is_initial_term:\n",
    "                output += '+'\n",
    "            if not is_initial_term:\n",
    "                output += ' '\n",
    "            if abs(coefficient) != 1:\n",
    "                output += '{}'.format(abs(coefficient))\n",
    "                \n",
    "            return output\n",
    "        \n",
    "        n = self.normal_vector\n",
    "        try:\n",
    "            initial_index = Line.first_nonzero_index(n)\n",
    "            terms = [\n",
    "                write_coefficient(n[i], is_initial_term=(i==initial_index)) + 'x_{}'.format(i+1)\n",
    "                for i in range(self.dimension) if round(n[i], num_decimal_places) != 0\n",
    "                    ]\n",
    "            output = ' '.join(terms)\n",
    "            \n",
    "        except Exception as e:\n",
    "            if str(e) == Line.NO_NONZERO_ELTS_FOUND_MSG:\n",
    "                output = '0'\n",
    "            else:\n",
    "                raise e\n",
    "                \n",
    "        constant = round(self.constant_term, num_decimal_places)\n",
    "        if constant % 1 == 0:\n",
    "            constant = int(constant)\n",
    "        output += ' = {}'.format(constant)\n",
    "        \n",
    "        return output\n",
    "    \n",
    "    def is_parallel(self, l):\n",
    "        return self.normal_vector.isParallel(l.normal_vector)\n",
    "        \n",
    "    @staticmethod\n",
    "    def first_nonzero_index(iterable):\n",
    "        for k, item in enumerate(iterable):\n",
    "            if not MyDecimal(item).is_near_zero():\n",
    "                return k\n",
    "        raise Exception(Line.NO_NONZERO_ELTS_FOUND_MSG)\n",
    "        \n",
    "class MyDecimal(Decimal):\n",
    "    def is_near_zero(self, eps=10e-10):\n",
    "        return abs(self) < eps\n"
   ]
  },
  {
   "cell_type": "code",
   "execution_count": 20,
   "metadata": {
    "collapsed": false
   },
   "outputs": [
    {
     "name": "stdout",
     "output_type": "stream",
     "text": [
      "x_1 + 5.6x_2 = 3\n",
      "x_1 + 5.6x_2 = 3\n"
     ]
    },
    {
     "data": {
      "text/plain": [
       "True"
      ]
     },
     "execution_count": 20,
     "metadata": {},
     "output_type": "execute_result"
    }
   ],
   "source": [
    "ln1 = Line(Vector([1,5.6]), 3)\n",
    "print(ln1)\n",
    "ln2 = Line(Vector([0,0]), 3)\n",
    "print(ln1)\n",
    "ln3 = Line(Vector([2,11.2]), 10)\n",
    "ln1.is_parallel(ln3)"
   ]
  }
 ],
 "metadata": {
  "kernelspec": {
   "display_name": "Python 2",
   "language": "python",
   "name": "python2"
  },
  "language_info": {
   "codemirror_mode": {
    "name": "ipython",
    "version": 2
   },
   "file_extension": ".py",
   "mimetype": "text/x-python",
   "name": "python",
   "nbconvert_exporter": "python",
   "pygments_lexer": "ipython2",
   "version": "2.7.2"
  }
 },
 "nbformat": 4,
 "nbformat_minor": 0
}
