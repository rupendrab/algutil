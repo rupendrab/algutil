{
 "cells": [
  {
   "cell_type": "code",
   "execution_count": 46,
   "metadata": {
    "collapsed": false
   },
   "outputs": [],
   "source": [
    "from vector import Vector\n",
    "from decimal import Decimal, getcontext\n",
    "\n",
    "getcontext().prec = 30\n",
    "\n",
    "class Line(object):\n",
    "    \n",
    "    NO_NONZERO_ELTS_FOUND_MSG = \"No nonzero elements found\"\n",
    "    \n",
    "    def __init__(self, normal_vector=None, constant_term=None):\n",
    "        self.dimension = 2\n",
    "        \n",
    "        if not normal_vector:\n",
    "            all_zeors = ['0'] * self.dimension\n",
    "            normal_vector = Vector(all_zeors)\n",
    "        self.normal_vector = normal_vector\n",
    "        \n",
    "        if not constant_term:\n",
    "            constant_term = Decimal('0')\n",
    "        self.constant_term = Decimal(constant_term)\n",
    "        \n",
    "        self.set_basepoint()\n",
    "\n",
    "    def set_basepoint(self):\n",
    "        try:\n",
    "            n = self.normal_vector\n",
    "            c = self.constant_term\n",
    "            basepoint_coords = ['0'] * self.dimension\n",
    "            \n",
    "            initial_index = Line.first_nonzero_index(n)\n",
    "            initial_coefficient = n[initial_index]\n",
    "            \n",
    "            basepoint_coords[initial_index] = c / initial_coefficient\n",
    "            self.basepoint = Vector(basepoint_coords)\n",
    "        except Exception as e:\n",
    "            if str(e) == Line.NO_NONZERO_ELTS_FOUND_MSG:\n",
    "                self.basepoint = None\n",
    "            else:\n",
    "                raise e\n",
    "                \n",
    "    def __str__(self):\n",
    "        num_decimal_places = 3\n",
    "        \n",
    "        def write_coefficient(coefficient, is_initial_term=False):\n",
    "            coefficient = round(coefficient, num_decimal_places)\n",
    "            if coefficient % 1 == 0:\n",
    "                coefficient = int(coefficient)\n",
    "            output = ''\n",
    "            \n",
    "            if coefficient < 0:\n",
    "                output += '-'\n",
    "            if coefficient > 0 and not is_initial_term:\n",
    "                output += '+'\n",
    "            if not is_initial_term:\n",
    "                output += ' '\n",
    "            if abs(coefficient) != 1:\n",
    "                output += '{}'.format(abs(coefficient))\n",
    "                \n",
    "            return output\n",
    "        \n",
    "        n = self.normal_vector\n",
    "        try:\n",
    "            initial_index = Line.first_nonzero_index(n)\n",
    "            terms = [\n",
    "                write_coefficient(n[i], is_initial_term=(i==initial_index)) + 'x_{}'.format(i+1)\n",
    "                for i in range(self.dimension) if round(n[i], num_decimal_places) != 0\n",
    "                    ]\n",
    "            output = ' '.join(terms)\n",
    "            \n",
    "        except Exception as e:\n",
    "            if str(e) == Line.NO_NONZERO_ELTS_FOUND_MSG:\n",
    "                output = '0'\n",
    "            else:\n",
    "                raise e\n",
    "                \n",
    "        constant = round(self.constant_term, num_decimal_places)\n",
    "        if constant % 1 == 0:\n",
    "            constant = int(constant)\n",
    "        output += ' = {}'.format(constant)\n",
    "        \n",
    "        return output\n",
    "    \n",
    "    def is_parallel(self, l):\n",
    "        return self.normal_vector.isParallel(l.normal_vector)\n",
    "    \n",
    "    def is_same(self, l):\n",
    "        if self.normal_vector.is_zero():\n",
    "            if not l.normal_vector.is_zero():\n",
    "                return False\n",
    "            else:\n",
    "                diff = self.constant_term - l.constant_term\n",
    "                return MyDecimal(diff).is_near_zero()\n",
    "        elif l.normal_vector.is_zero():\n",
    "            return False\n",
    "            \n",
    "        if not self.is_parallel(l):\n",
    "            return False\n",
    "        v1 = self.basepoint\n",
    "        v2 = l.basepoint\n",
    "        v = v1 - v2\n",
    "        return (v.isOrthogonal(self.normal_vector) and v.isOrthogonal(l.normal_vector))\n",
    "        \n",
    "    def intersection(self, l):\n",
    "        p = self.is_parallel(l)\n",
    "        s = self.is_same(l)\n",
    "        x = None\n",
    "        y = None\n",
    "        A = self.normal_vector[0]\n",
    "        B = self.normal_vector[1]\n",
    "        C = l.normal_vector[0]\n",
    "        D = l.normal_vector[1]\n",
    "        k1 = self.constant_term\n",
    "        k2 = l.constant_term\n",
    "        if not p:\n",
    "            denom = A * D - B * C\n",
    "            x = (D * k1 - B * k2) / denom\n",
    "            y = (-C * k1 + A * k2) / denom\n",
    "            x = float(x)\n",
    "            y = float(y)\n",
    "            return {'Point': Vector([x,y]), 'Parallel': p, 'Same': s}\n",
    "        else:\n",
    "            return {'Point': None, 'Parallel': p, 'Same': s}\n",
    "    \n",
    "    @staticmethod\n",
    "    def first_nonzero_index(iterable):\n",
    "        for k, item in enumerate(iterable):\n",
    "            if not MyDecimal(item).is_near_zero():\n",
    "                return k\n",
    "        raise Exception(Line.NO_NONZERO_ELTS_FOUND_MSG)\n",
    "        \n",
    "class MyDecimal(Decimal):\n",
    "    def is_near_zero(self, eps=10e-10):\n",
    "        return abs(self) < eps\n"
   ]
  },
  {
   "cell_type": "code",
   "execution_count": 37,
   "metadata": {
    "collapsed": false
   },
   "outputs": [
    {
     "name": "stdout",
     "output_type": "stream",
     "text": [
      "x_1 + 5.6x_2 = 3\n",
      "x_1 + 5.6x_2 = 3\n",
      "True\n",
      "True\n",
      "True\n",
      "False\n"
     ]
    },
    {
     "data": {
      "text/plain": [
       "10.02"
      ]
     },
     "execution_count": 37,
     "metadata": {},
     "output_type": "execute_result"
    }
   ],
   "source": [
    "### Basic Tests\n",
    "\n",
    "ln1 = Line(Vector([1,5.6]), 3)\n",
    "print(ln1)\n",
    "ln2 = Line(Vector([0,0]), 3)\n",
    "print(ln1)\n",
    "ln3 = Line(Vector([2,11.2]), 10)\n",
    "ln1.is_parallel(ln3)\n",
    "\n",
    "ln1 = Line(Vector([1,1]), 3)\n",
    "ln2 = Line(Vector([2,2]), 6)\n",
    "print(ln1.is_parallel(ln2))\n",
    "print(ln1.is_same(ln2))\n",
    "ln3 = Line(Vector([2,2]), 7)\n",
    "print(ln1.is_parallel(ln3))\n",
    "print(ln1.is_same(ln3))\n",
    "\n",
    "float(Decimal('10.02'))"
   ]
  },
  {
   "cell_type": "code",
   "execution_count": 47,
   "metadata": {
    "collapsed": false
   },
   "outputs": [
    {
     "name": "stdout",
     "output_type": "stream",
     "text": [
      "None\n",
      "True\n",
      "True\n",
      " \n",
      "Vector: (1.173, 0.073)\n",
      "False\n",
      "False\n",
      " \n",
      "None\n",
      "True\n",
      "False\n"
     ]
    }
   ],
   "source": [
    "### Exercise\n",
    "\n",
    "l1 = Line(Vector([4.046, 2.836]), 1.21)\n",
    "l2 = Line(Vector([10.115, 7.09]), 3.025)\n",
    "ints = l1.intersection(l2)\n",
    "print(ints['Point'])\n",
    "print(ints['Parallel'])\n",
    "print(ints['Same'])\n",
    "\n",
    "print(' ')\n",
    "l1 = Line(Vector([7.204, 3.182]), 8.68)\n",
    "l2 = Line(Vector([8.172, 4.114]), 9.883)\n",
    "ints = l1.intersection(l2)\n",
    "print(ints['Point'])\n",
    "print(ints['Parallel'])\n",
    "print(ints['Same'])\n",
    "\n",
    "print(' ')\n",
    "l1 = Line(Vector([1.182, 5.562]), 6.744)\n",
    "l2 = Line(Vector([1.773, 8.343]), 9.525)\n",
    "ints = l1.intersection(l2)\n",
    "print(ints['Point'])\n",
    "print(ints['Parallel'])\n",
    "print(ints['Same'])\n"
   ]
  },
  {
   "cell_type": "code",
   "execution_count": 18,
   "metadata": {
    "collapsed": false
   },
   "outputs": [
    {
     "name": "stdout",
     "output_type": "stream",
     "text": [
      "2.5\n",
      "2.5\n",
      "2.5\n"
     ]
    }
   ],
   "source": [
    "print(10.115/4.046)\n",
    "print(7.09/2.836)\n",
    "print(3.025/1.21)"
   ]
  }
 ],
 "metadata": {
  "kernelspec": {
   "display_name": "Python 2",
   "language": "python",
   "name": "python2"
  },
  "language_info": {
   "codemirror_mode": {
    "name": "ipython",
    "version": 2
   },
   "file_extension": ".py",
   "mimetype": "text/x-python",
   "name": "python",
   "nbconvert_exporter": "python",
   "pygments_lexer": "ipython2",
   "version": "2.7.2"
  }
 },
 "nbformat": 4,
 "nbformat_minor": 0
}
